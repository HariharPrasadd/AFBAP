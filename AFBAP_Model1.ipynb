{
 "cells": [
  {
   "cell_type": "code",
   "execution_count": null,
   "metadata": {},
   "outputs": [],
   "source": [
    "import torch\n",
    "import torch.nn as nn\n",
    "import torch.optim as optim\n",
    "from torch.utils.data import DataLoader, TensorDataset\n",
    "from sklearn.model_selection import train_test_split\n",
    "from sklearn.metrics import mean_squared_error, mean_absolute_error\n",
    "from scipy.stats import pearsonr\n",
    "from transformers import BertModel, BertTokenizer, AutoModelForMaskedLM, AutoTokenizer\n",
    "import re\n",
    "import os\n",
    "import requests\n",
    "from tqdm.auto import tqdm\n",
    "import pandas as pd\n",
    "import numpy as np"
   ]
  },
  {
   "cell_type": "code",
   "execution_count": null,
   "metadata": {},
   "outputs": [],
   "source": [
    "protein_tokenizer = BertTokenizer.from_pretrained(\"Rostlab/prot_bert\", do_lower_case=False)\n",
    "protein_model = BertModel.from_pretrained(\"Rostlab/prot_bert\")\n",
    "protein_device = torch.device('cuda:0' if torch.cuda.is_available() else 'cpu')\n",
    "protein_model = protein_model.to(protein_device)\n",
    "protein_model.eval()"
   ]
  },
  {
   "cell_type": "code",
   "execution_count": null,
   "metadata": {},
   "outputs": [],
   "source": [
    "file_path = './all.parquet'\n",
    "df = pd.read_parquet(file_path)\n",
    "seed = 42\n",
    "sampled_df = df.sample(n=100000, random_state=seed)\n",
    "protein_sequences = sampled_df.iloc[:, 1].tolist()\n",
    "protein_sequences = [re.sub(r\"[UZOB]\", \"X\", sequence) for sequence in protein_sequences]"
   ]
  },
  {
   "cell_type": "code",
   "execution_count": null,
   "metadata": {},
   "outputs": [],
   "source": [
    "# Process in batches\n",
    "batch_size = 32  \n",
    "protein_features = []\n",
    "\n",
    "for i in tqdm(range(0, len(protein_sequences), batch_size)):\n",
    "    batch = protein_sequences[i:i+batch_size]\n",
    "    \n",
    "    # Tokenize\n",
    "    ids = protein_tokenizer.batch_encode_plus(\n",
    "        batch,\n",
    "        add_special_tokens=True,\n",
    "        padding='max_length',\n",
    "        max_length=3200,\n",
    "        truncation=True,\n",
    "        return_tensors='pt'\n",
    "    )\n",
    "    \n",
    "    input_ids = ids['input_ids'].to(protein_device)\n",
    "    attention_mask = ids['attention_mask'].to(protein_device)\n",
    "\n",
    "    with torch.no_grad():\n",
    "        outputs = protein_model(input_ids=input_ids, attention_mask=attention_mask)\n",
    "        embedding = outputs[0]\n",
    "\n",
    "    for seq_num in range(len(embedding)):\n",
    "        seq_len = attention_mask[seq_num].sum().item()\n",
    "        seq_emd = embedding[seq_num][1:seq_len-1].cpu().numpy()\n",
    "        avg_emd = seq_emd.mean(dim=0).cpu().numpy()\n",
    "        protein_features.append(seq_emd)\n",
    "\n",
    "    del input_ids, attention_mask, embedding\n",
    "    torch.cuda.empty_cache()"
   ]
  },
  {
   "cell_type": "code",
   "execution_count": null,
   "metadata": {},
   "outputs": [],
   "source": [
    "protein_features = np.array(protein_features)"
   ]
  },
  {
   "cell_type": "code",
   "execution_count": null,
   "metadata": {},
   "outputs": [],
   "source": [
    "ligand_model_name = \"DeepChem/ChemBERTa-10M-MLM\"\n",
    "ligand_tokenizer = AutoTokenizer.from_pretrained(ligand_model_name)\n",
    "ligand_model = AutoModelForMaskedLM.from_pretrained(ligand_model_name)"
   ]
  },
  {
   "cell_type": "code",
   "execution_count": null,
   "metadata": {},
   "outputs": [],
   "source": [
    "ligand_device = torch.device('cuda' if torch.cuda.is_available() else 'cpu')\n",
    "ligand_model = ligand_model.to(ligand_device)\n",
    "ligand_model.eval()"
   ]
  },
  {
   "cell_type": "code",
   "execution_count": null,
   "metadata": {},
   "outputs": [],
   "source": [
    "smiles_tokenizer = AutoTokenizer.from_pretrained(\"DeepChem/SmilesTokenizer_PubChem_1M\")"
   ]
  },
  {
   "cell_type": "code",
   "execution_count": null,
   "metadata": {},
   "outputs": [],
   "source": [
    "smiles_list = sampled_df.iloc[:, 2].tolist()"
   ]
  },
  {
   "cell_type": "code",
   "execution_count": null,
   "metadata": {},
   "outputs": [],
   "source": [
    "tokenized_smiles = smiles_tokenizer(\n",
    "    smiles_list,\n",
    "    padding='max_length',     \n",
    "    truncation=True,          \n",
    "    max_length=278,           \n",
    "    return_tensors='pt'        \n",
    ")"
   ]
  },
  {
   "cell_type": "code",
   "execution_count": null,
   "metadata": {},
   "outputs": [],
   "source": [
    "batch_size = 32\n",
    "ligand_features = []\n",
    "\n",
    "for i in tqdm(range(0, len(tokenized_smiles), batch_size), desc=\"Extracting features\"):\n",
    "    batch = tokenized_smiles[i:i+batch_size]\n",
    "    \n",
    "    input_ids = torch.cat([item['input_ids'] for item in batch]).to(ligand_device)\n",
    "    attention_mask = torch.cat([item['attention_mask'] for item in batch]).to(ligand_device)\n",
    "    \n",
    "    with torch.no_grad():\n",
    "        outputs = ligand_model(input_ids=input_ids, attention_mask=attention_mask, output_hidden_states=True)\n",
    "        \n",
    "    last_hidden_state = outputs.hidden_states[-1]\n",
    "    \n",
    "    batch_features = last_hidden_state.mean(dim=1).cpu().numpy()\n",
    "    ligand_features.extend(batch_features)\n",
    "    \n",
    "    del input_ids, attention_mask, last_hidden_state\n",
    "    torch.cuda.empty_cache()"
   ]
  },
  {
   "cell_type": "code",
   "execution_count": null,
   "metadata": {},
   "outputs": [],
   "source": [
    "ligand_features = np.array(ligand_features)"
   ]
  },
  {
   "cell_type": "code",
   "execution_count": null,
   "metadata": {},
   "outputs": [],
   "source": [
    "def feature_transformation(X, W):\n",
    "    return X @ W"
   ]
  },
  {
   "cell_type": "code",
   "execution_count": null,
   "metadata": {},
   "outputs": [],
   "source": [
    "def l2_normalize(X):\n",
    "    return X / np.linalg.norm(X, axis=1, keepdims=True)"
   ]
  },
  {
   "cell_type": "code",
   "execution_count": null,
   "metadata": {},
   "outputs": [],
   "source": [
    "class ProteinLigandModel(nn.Module):\n",
    "    def __init__(self, input_dim):\n",
    "        super(ProteinLigandModel, self).__init__()\n",
    "        self.fc1 = nn.Linear(input_dim, 512)\n",
    "        self.fc2 = nn.Linear(512, 64)\n",
    "        self.fc3 = nn.Linear(64, 1)\n",
    "        self.dropout = nn.Dropout(0.2)\n",
    "        self.norm = nn.BatchNorm1d(input_dim)\n",
    "        self.relu = nn.ReLU()\n",
    "\n",
    "    def forward(self, x):\n",
    "        x = self.norm(x)\n",
    "        x = self.relu(self.fc1(x))\n",
    "        x = self.dropout(x)\n",
    "        x = self.relu(self.fc2(x))\n",
    "        x = self.dropout(x)\n",
    "        x = self.fc3(x)\n",
    "        return x"
   ]
  },
  {
   "cell_type": "code",
   "execution_count": null,
   "metadata": {},
   "outputs": [],
   "source": [
    "dissociation_constants = sampled_df.iloc[:, 3].values"
   ]
  },
  {
   "cell_type": "code",
   "execution_count": null,
   "metadata": {},
   "outputs": [],
   "source": [
    "W_protein = np.random.randn(1024, 1024)\n",
    "W_ligand = np.random.randn(768, 768)\n",
    "\n",
    "protein_features_transformed = feature_transformation(protein_features, W_protein)\n",
    "ligand_features_transformed = feature_transformation(ligand_features, W_ligand)\n",
    "\n",
    "protein_features_normalized = l2_normalize(protein_features_transformed)\n",
    "ligand_features_normalized = l2_normalize(ligand_features_transformed)"
   ]
  },
  {
   "cell_type": "code",
   "execution_count": null,
   "metadata": {},
   "outputs": [],
   "source": [
    "X = np.concatenate((protein_features_normalized, ligand_features_normalized), axis=1)\n",
    "y = dissociation_constants"
   ]
  },
  {
   "cell_type": "code",
   "execution_count": null,
   "metadata": {},
   "outputs": [],
   "source": [
    "X_train, X_val, y_train, y_val = train_test_split(X, y, test_size=0.1, random_state=103)"
   ]
  },
  {
   "cell_type": "code",
   "execution_count": null,
   "metadata": {},
   "outputs": [],
   "source": [
    "X_train_tensor = torch.FloatTensor(X_train)\n",
    "y_train_tensor = torch.FloatTensor(y_train).unsqueeze(1)\n",
    "X_val_tensor = torch.FloatTensor(X_val)\n",
    "y_val_tensor = torch.FloatTensor(y_val).unsqueeze(1)"
   ]
  },
  {
   "cell_type": "code",
   "execution_count": null,
   "metadata": {},
   "outputs": [],
   "source": [
    "train_dataset = TensorDataset(X_train_tensor, y_train_tensor)\n",
    "train_loader = DataLoader(train_dataset, batch_size=256, shuffle=True)"
   ]
  },
  {
   "cell_type": "code",
   "execution_count": null,
   "metadata": {},
   "outputs": [],
   "source": [
    "model = ProteinLigandModel(X.shape[1]) \n",
    "criterion = nn.MSELoss()\n",
    "optimizer = optim.Adam(model.parameters(), lr=0.001, weight_decay=1e-5)\n",
    "scheduler = optim.lr_scheduler.ReduceLROnPlateau(optimizer, 'min', patience=5)"
   ]
  },
  {
   "cell_type": "code",
   "execution_count": null,
   "metadata": {},
   "outputs": [],
   "source": [
    "num_epochs = 50\n",
    "for epoch in range(num_epochs):\n",
    "    model.train()\n",
    "    for batch_X, batch_y in train_loader:\n",
    "        optimizer.zero_grad()\n",
    "        outputs = model(batch_X)\n",
    "        loss = criterion(outputs, batch_y)\n",
    "        loss.backward()\n",
    "        torch.nn.utils.clip_grad_norm_(model.parameters(), max_norm=1.0)\n",
    "        optimizer.step()\n",
    "    \n",
    "    model.eval()\n",
    "    with torch.no_grad():\n",
    "        val_outputs = model(X_val_tensor)\n",
    "        val_loss = criterion(val_outputs, y_val_tensor)\n",
    "    \n",
    "    scheduler.step(val_loss)\n",
    "    print(f'Epoch {epoch+1}, Validation Loss: {val_loss.item()}')"
   ]
  },
  {
   "cell_type": "code",
   "execution_count": null,
   "metadata": {},
   "outputs": [],
   "source": [
    "model.eval()\n",
    "with torch.no_grad():\n",
    "    y_pred = model(X_val_tensor).numpy().flatten()\n",
    "\n",
    "y_true = y_val"
   ]
  },
  {
   "cell_type": "code",
   "execution_count": null,
   "metadata": {},
   "outputs": [],
   "source": [
    "pearson_corr, _ = pearsonr(y_true, y_pred)\n",
    "rmse = np.sqrt(mean_squared_error(y_true, y_pred))\n",
    "mae = mean_absolute_error(y_true, y_pred)"
   ]
  }
 ],
 "metadata": {
  "kernelspec": {
   "display_name": "Python 3",
   "language": "python",
   "name": "python3"
  },
  "language_info": {
   "codemirror_mode": {
    "name": "ipython",
    "version": 3
   },
   "file_extension": ".py",
   "mimetype": "text/x-python",
   "name": "python",
   "nbconvert_exporter": "python",
   "pygments_lexer": "ipython3",
   "version": "3.11.4"
  }
 },
 "nbformat": 4,
 "nbformat_minor": 2
}
